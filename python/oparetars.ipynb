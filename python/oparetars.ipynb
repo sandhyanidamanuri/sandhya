{
 "cells": [
  {
   "cell_type": "code",
   "execution_count": null,
   "id": "afa2afd2",
   "metadata": {},
   "outputs": [],
   "source": [
    "# operand : it is a data ,which is used to perform a task\n",
    "# operator : it is a symbol which is used to perform a task\n",
    "\n",
    "# ARTHAMATIC OPERATORS\n",
    "# + , - , * , / , % , // , **\n"
   ]
  },
  {
   "cell_type": "code",
   "execution_count": 2,
   "id": "33b912b0",
   "metadata": {},
   "outputs": [
    {
     "name": "stdout",
     "output_type": "stream",
     "text": [
      "30\n"
     ]
    }
   ],
   "source": [
    "# + : Addition\n",
    "a = 10\n",
    "b = 20\n",
    "print(a+b)"
   ]
  },
  {
   "cell_type": "code",
   "execution_count": 8,
   "id": "9033987c",
   "metadata": {},
   "outputs": [
    {
     "name": "stdout",
     "output_type": "stream",
     "text": [
      "sandhyasravana\n"
     ]
    }
   ],
   "source": [
    "st = \"sandhya\"\n",
    "st1 = \"sravana\"\n",
    "print(st + st1)"
   ]
  },
  {
   "cell_type": "code",
   "execution_count": 10,
   "id": "ed95547c",
   "metadata": {},
   "outputs": [
    {
     "name": "stdout",
     "output_type": "stream",
     "text": [
      "[1, 2, 3, 4, 5, 6]\n",
      "[1, 2, 3]\n"
     ]
    }
   ],
   "source": [
    "l1 = [1,2,3]\n",
    "l2 = [4,5,6]\n",
    "print(l1+l2)\n",
    "print(l1)\n"
   ]
  },
  {
   "cell_type": "code",
   "execution_count": 12,
   "id": "ea32649f",
   "metadata": {},
   "outputs": [
    {
     "name": "stdout",
     "output_type": "stream",
     "text": [
      "(1, 2, 3, 4, 5, 6)\n"
     ]
    }
   ],
   "source": [
    "t1 = (1,2,3)\n",
    "t2 = (4,5,6)\n",
    "res = t1 + t2\n",
    "print(res)"
   ]
  },
  {
   "cell_type": "code",
   "execution_count": 13,
   "id": "6e760b25",
   "metadata": {},
   "outputs": [
    {
     "name": "stdout",
     "output_type": "stream",
     "text": [
      "-10\n"
     ]
    }
   ],
   "source": [
    "# \"-\" : SUBTRACTION\n",
    "a = 10\n",
    "b = 20\n",
    "res = a - b\n",
    "print(res)"
   ]
  },
  {
   "cell_type": "code",
   "execution_count": 14,
   "id": "6c4ecfa1",
   "metadata": {},
   "outputs": [
    {
     "name": "stdout",
     "output_type": "stream",
     "text": [
      "200\n"
     ]
    }
   ],
   "source": [
    "# \"*\" : MULTIPLICATION\n",
    "num = 10\n",
    "num2 = 20\n",
    "res = num * num2\n",
    "print(res)"
   ]
  },
  {
   "cell_type": "code",
   "execution_count": 15,
   "id": "12aa91f7",
   "metadata": {},
   "outputs": [
    {
     "name": "stdout",
     "output_type": "stream",
     "text": [
      "6.0\n"
     ]
    }
   ],
   "source": [
    "num1 = 10\n",
    "num2 = 0.6\n",
    "print( num1 * num2)"
   ]
  },
  {
   "cell_type": "code",
   "execution_count": 16,
   "id": "3f817749",
   "metadata": {},
   "outputs": [
    {
     "name": "stdout",
     "output_type": "stream",
     "text": [
      "(20+4j)\n"
     ]
    }
   ],
   "source": [
    "num = 10+2j\n",
    "num2 = 2\n",
    "print(num * num2)"
   ]
  },
  {
   "cell_type": "code",
   "execution_count": 22,
   "id": "832824c7",
   "metadata": {},
   "outputs": [
    {
     "name": "stdout",
     "output_type": "stream",
     "text": [
      "2.0\n"
     ]
    }
   ],
   "source": [
    "# \"/\" : DIVISION\n",
    "num1 = 10\n",
    "num2 = 5\n",
    "print(num1 / num2)"
   ]
  },
  {
   "cell_type": "code",
   "execution_count": 18,
   "id": "c5582c36",
   "metadata": {},
   "outputs": [
    {
     "name": "stdout",
     "output_type": "stream",
     "text": [
      "(5+1j)\n"
     ]
    }
   ],
   "source": [
    "a = 10+2j\n",
    "b = 2\n",
    "print(a / b)"
   ]
  },
  {
   "cell_type": "code",
   "execution_count": 20,
   "id": "4149a2b1",
   "metadata": {},
   "outputs": [
    {
     "name": "stdout",
     "output_type": "stream",
     "text": [
      "2\n"
     ]
    }
   ],
   "source": [
    "# \"//\" : FLOOR DVISION\n",
    "num1 = 10\n",
    "num2 = 5\n",
    "print(num1 // num2)"
   ]
  },
  {
   "cell_type": "code",
   "execution_count": 21,
   "id": "d67d4b5f",
   "metadata": {},
   "outputs": [
    {
     "name": "stdout",
     "output_type": "stream",
     "text": [
      "0\n"
     ]
    }
   ],
   "source": [
    "# \"%\" : MODULUS\n",
    "num1 = 10\n",
    "num2 = 5\n",
    "print(num1 % num2)"
   ]
  },
  {
   "cell_type": "code",
   "execution_count": 23,
   "id": "a1ca121e",
   "metadata": {},
   "outputs": [
    {
     "name": "stdout",
     "output_type": "stream",
     "text": [
      "100000\n"
     ]
    }
   ],
   "source": [
    "# \"**\" : power\n",
    "num1 = 10\n",
    "num2 = 5\n",
    "print(num1 ** num2)"
   ]
  },
  {
   "cell_type": "code",
   "execution_count": 1,
   "id": "780c26dc",
   "metadata": {},
   "outputs": [
    {
     "name": "stdout",
     "output_type": "stream",
     "text": [
      "False\n"
     ]
    }
   ],
   "source": [
    "# relational operators\n",
    "# these  are the symbols used to find the relation between two operands\n",
    "# \">\" : GREATER THAN\n",
    "a = 10\n",
    "b = 20\n",
    "print(a > b)"
   ]
  },
  {
   "cell_type": "code",
   "execution_count": 2,
   "id": "da136f4d",
   "metadata": {},
   "outputs": [
    {
     "name": "stdout",
     "output_type": "stream",
     "text": [
      "True\n"
     ]
    }
   ],
   "source": [
    "st = \"sandhya\"\n",
    "st1 = \"ram\"\n",
    "print(st > st1)"
   ]
  },
  {
   "cell_type": "code",
   "execution_count": 3,
   "id": "06af9ea1",
   "metadata": {},
   "outputs": [
    {
     "name": "stdout",
     "output_type": "stream",
     "text": [
      "True\n"
     ]
    }
   ],
   "source": [
    "st = \"python\"\n",
    "st1 = \"pyThon\"\n",
    "print(st > st1)"
   ]
  },
  {
   "cell_type": "code",
   "execution_count": 5,
   "id": "c369ec6f",
   "metadata": {},
   "outputs": [
    {
     "name": "stdout",
     "output_type": "stream",
     "text": [
      "False\n"
     ]
    }
   ],
   "source": [
    "l = [1,2,3]\n",
    "l1 = [4,5,5]\n",
    "print(l > l1)"
   ]
  },
  {
   "cell_type": "code",
   "execution_count": 6,
   "id": "d6a60992",
   "metadata": {},
   "outputs": [
    {
     "name": "stdout",
     "output_type": "stream",
     "text": [
      "True\n"
     ]
    }
   ],
   "source": [
    "# \"<\" : LESS THAN\n",
    "st = \"sandhya\"\n",
    "st1 = \"vardhini\"\n",
    "print(st < st1)\n"
   ]
  },
  {
   "cell_type": "code",
   "execution_count": 7,
   "id": "6deada94",
   "metadata": {},
   "outputs": [
    {
     "name": "stdout",
     "output_type": "stream",
     "text": [
      "False\n"
     ]
    }
   ],
   "source": [
    "#  COMPARISION OPERATORS\n",
    "#  THIS are the  operators used to check op1 is equals to op2 or not\n",
    "# \"==\" : EQUAL TO\n",
    "a = 10\n",
    "b = 20\n",
    "print(a == b)\n"
   ]
  },
  {
   "cell_type": "code",
   "execution_count": 8,
   "id": "d1d34736",
   "metadata": {},
   "outputs": [
    {
     "name": "stdout",
     "output_type": "stream",
     "text": [
      "True\n"
     ]
    }
   ],
   "source": [
    "a = 10\n",
    "b = 20\n",
    "print(a != b)"
   ]
  },
  {
   "cell_type": "code",
   "execution_count": 9,
   "id": "5e7d5db3",
   "metadata": {},
   "outputs": [
    {
     "name": "stdout",
     "output_type": "stream",
     "text": [
      "True\n"
     ]
    }
   ],
   "source": [
    "# LOGICAL OPERATORS\n",
    "# these are the operators works on the principle of logical gets.\n",
    "# \"and\" : AND OPERATOR\n",
    "# t f = f\n",
    "# f t = f\n",
    "# f f = f\n",
    "# t t = t\n",
    "print(True and True)"
   ]
  },
  {
   "cell_type": "code",
   "execution_count": 10,
   "id": "422fb08c",
   "metadata": {},
   "outputs": [
    {
     "name": "stdout",
     "output_type": "stream",
     "text": [
      "False\n"
     ]
    }
   ],
   "source": [
    "print (False and True)"
   ]
  },
  {
   "cell_type": "code",
   "execution_count": 11,
   "id": "882952b3",
   "metadata": {},
   "outputs": [
    {
     "name": "stdout",
     "output_type": "stream",
     "text": [
      "True\n"
     ]
    }
   ],
   "source": [
    "# \"or : OR OPERATOR\n",
    "# f f =f\n",
    "# f t = t\n",
    "# t f = t\n",
    "# t t = t\n",
    "print(True or True)"
   ]
  },
  {
   "cell_type": "code",
   "execution_count": 15,
   "id": "92955b81",
   "metadata": {},
   "outputs": [
    {
     "name": "stdout",
     "output_type": "stream",
     "text": [
      "False\n"
     ]
    }
   ],
   "source": [
    "# not : not operator\n",
    "#  true = false\n",
    "# false = true\n",
    "num = 7\n",
    "res = not (num > 6)\n",
    "print(res)"
   ]
  },
  {
   "cell_type": "code",
   "execution_count": 16,
   "id": "089f48f7",
   "metadata": {},
   "outputs": [
    {
     "name": "stdout",
     "output_type": "stream",
     "text": [
      "True\n"
     ]
    }
   ],
   "source": [
    "# MEMBERSHIP OPERATORA\n",
    "# \"IN\": IN OPERATOR\n",
    "print(1 in {1,2,3})"
   ]
  },
  {
   "cell_type": "code",
   "execution_count": 18,
   "id": "cc70d7e8",
   "metadata": {},
   "outputs": [
    {
     "name": "stdout",
     "output_type": "stream",
     "text": [
      "False\n"
     ]
    }
   ],
   "source": [
    "# \"not in\" : not in operator\n",
    "print(1 not in {1,2,3})"
   ]
  }
 ],
 "metadata": {
  "kernelspec": {
   "display_name": "Python 3",
   "language": "python",
   "name": "python3"
  },
  "language_info": {
   "codemirror_mode": {
    "name": "ipython",
    "version": 3
   },
   "file_extension": ".py",
   "mimetype": "text/x-python",
   "name": "python",
   "nbconvert_exporter": "python",
   "pygments_lexer": "ipython3",
   "version": "3.13.3"
  }
 },
 "nbformat": 4,
 "nbformat_minor": 5
}
