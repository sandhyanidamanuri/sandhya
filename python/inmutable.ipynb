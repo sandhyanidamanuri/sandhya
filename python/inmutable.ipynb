{
 "cells": [
  {
   "cell_type": "code",
   "execution_count": 19,
   "id": "d4a86390",
   "metadata": {},
   "outputs": [
    {
     "ename": "TypeError",
     "evalue": "'str' object does not support item assignment",
     "output_type": "error",
     "traceback": [
      "\u001b[31m---------------------------------------------------------------------------\u001b[39m",
      "\u001b[31mTypeError\u001b[39m                                 Traceback (most recent call last)",
      "\u001b[36mCell\u001b[39m\u001b[36m \u001b[39m\u001b[32mIn[19]\u001b[39m\u001b[32m, line 6\u001b[39m\n\u001b[32m      1\u001b[39m \u001b[38;5;66;03m# what is inmutable?\u001b[39;00m\n\u001b[32m      2\u001b[39m \u001b[38;5;66;03m# one object is called that object canot be modifid further\u001b[39;00m\n\u001b[32m      3\u001b[39m \n\u001b[32m      4\u001b[39m \u001b[38;5;66;03m# string inmutable\u001b[39;00m\n\u001b[32m      5\u001b[39m st = \u001b[33m\"\u001b[39m\u001b[33mhello\u001b[39m\u001b[33m\"\u001b[39m\n\u001b[32m----> \u001b[39m\u001b[32m6\u001b[39m \u001b[43mst\u001b[49m\u001b[43m[\u001b[49m\u001b[32;43m0\u001b[39;49m\u001b[43m]\u001b[49m = \u001b[33m'\u001b[39m\u001b[33mm\u001b[39m\u001b[33m'\u001b[39m\n\u001b[32m      7\u001b[39m \u001b[38;5;28mprint\u001b[39m(st,\u001b[38;5;28mstr\u001b[39m)\n\u001b[32m      8\u001b[39m \u001b[38;5;66;03m# string inmutable value string con't be modifyed\u001b[39;00m\n",
      "\u001b[31mTypeError\u001b[39m: 'str' object does not support item assignment"
     ]
    }
   ],
   "source": [
    "# what is inmutable?\n",
    "# one object is called that object canot be modifid further\n",
    "\n",
    "# string inmutable\n",
    "st = \"hello\"\n",
    "st[0] = 'm'\n",
    "print(st,str)\n",
    "# string inmutable value string con't be modifyed\n"
   ]
  },
  {
   "cell_type": "code",
   "execution_count": null,
   "id": "dc82a877",
   "metadata": {},
   "outputs": [
    {
     "name": "stdout",
     "output_type": "stream",
     "text": [
      "1\n",
      "[5, 2, 3, 4, 4] [<class 'list'>]\n"
     ]
    }
   ],
   "source": [
    "# lis\n",
    "l1 = [1,2,3,4,4]\n",
    "print(l1[0])\n",
    "l1[0] = 5\n",
    "print(l1,[list]) \n",
    "\n",
    "# list data type is mutable list chage tha objects"
   ]
  },
  {
   "cell_type": "code",
   "execution_count": 15,
   "id": "fa6aa9b4",
   "metadata": {},
   "outputs": [
    {
     "name": "stdout",
     "output_type": "stream",
     "text": [
      "[2, 5, 6, 7] <class 'list'>\n"
     ]
    }
   ],
   "source": [
    "l1 = [2,4,6,7]\n",
    "l1[1] = 5\n",
    "print(l1,list)"
   ]
  },
  {
   "cell_type": "code",
   "execution_count": 16,
   "id": "23fac531",
   "metadata": {},
   "outputs": [
    {
     "name": "stdout",
     "output_type": "stream",
     "text": [
      "[1, 2, 3, 4, 7, 6] <class 'list'>\n"
     ]
    }
   ],
   "source": [
    "l1 = [1,2,3,4,5,6]\n",
    "l1[4] = 7\n",
    "print(l1,list)"
   ]
  },
  {
   "cell_type": "code",
   "execution_count": null,
   "id": "d69a3429",
   "metadata": {},
   "outputs": [
    {
     "ename": "TypeError",
     "evalue": "'set' object does not support item assignment",
     "output_type": "error",
     "traceback": [
      "\u001b[31m---------------------------------------------------------------------------\u001b[39m",
      "\u001b[31mTypeError\u001b[39m                                 Traceback (most recent call last)",
      "\u001b[36mCell\u001b[39m\u001b[36m \u001b[39m\u001b[32mIn[17]\u001b[39m\u001b[32m, line 3\u001b[39m\n\u001b[32m      1\u001b[39m \u001b[38;5;66;03m# set \u001b[39;00m\n\u001b[32m      2\u001b[39m s = {\u001b[32m1\u001b[39m,\u001b[32m2\u001b[39m,\u001b[32m3\u001b[39m,\u001b[32m4\u001b[39m,\u001b[32m5\u001b[39m}\n\u001b[32m----> \u001b[39m\u001b[32m3\u001b[39m \u001b[43ms\u001b[49m\u001b[43m[\u001b[49m\u001b[32;43m1\u001b[39;49m\u001b[43m]\u001b[49m = \u001b[32m5\u001b[39m\n\u001b[32m      4\u001b[39m \u001b[38;5;28mprint\u001b[39m(s,\u001b[38;5;28mset\u001b[39m)\n",
      "\u001b[31mTypeError\u001b[39m: 'set' object does not support item assignment"
     ]
    }
   ],
   "source": [
    "# set \n",
    "s = {1,2,3,4,5}\n",
    "s[1] = 5\n",
    "print(s,set)\n",
    "\n",
    "# set is  inmtable ,but stores only inmutable objects (int,float,complex,string,bool,tuple)\n"
   ]
  },
  {
   "cell_type": "code",
   "execution_count": null,
   "id": "dd2a6fb9",
   "metadata": {},
   "outputs": [
    {
     "name": "stdout",
     "output_type": "stream",
     "text": [
      "(1, 2, 3, 4)\n"
     ]
    },
    {
     "ename": "TypeError",
     "evalue": "'tuple' object does not support item assignment",
     "output_type": "error",
     "traceback": [
      "\u001b[31m---------------------------------------------------------------------------\u001b[39m",
      "\u001b[31mTypeError\u001b[39m                                 Traceback (most recent call last)",
      "\u001b[36mCell\u001b[39m\u001b[36m \u001b[39m\u001b[32mIn[23]\u001b[39m\u001b[32m, line 3\u001b[39m\n\u001b[32m      1\u001b[39m tup = (\u001b[32m1\u001b[39m,\u001b[32m2\u001b[39m,\u001b[32m3\u001b[39m,\u001b[32m4\u001b[39m)\n\u001b[32m      2\u001b[39m \u001b[38;5;28mprint\u001b[39m(tup)\n\u001b[32m----> \u001b[39m\u001b[32m3\u001b[39m \u001b[43mtup\u001b[49m\u001b[43m[\u001b[49m\u001b[32;43m1\u001b[39;49m\u001b[43m]\u001b[49m = \u001b[32m5\u001b[39m\n\u001b[32m      4\u001b[39m \u001b[38;5;28mprint\u001b[39m(tup,\u001b[38;5;28mtuple\u001b[39m)\n",
      "\u001b[31mTypeError\u001b[39m: 'tuple' object does not support item assignment"
     ]
    }
   ],
   "source": [
    "tup = (1,2,3,4)\n",
    "print(tup)\n",
    "tup[1] = 5\n",
    "print(tup,tuple)\n",
    "\n",
    "# tuple is inmutable\n"
   ]
  },
  {
   "cell_type": "code",
   "execution_count": null,
   "id": "7359f232",
   "metadata": {},
   "outputs": [
    {
     "name": "stdout",
     "output_type": "stream",
     "text": [
      "{'name': 'abnc', 'age': 23}\n",
      "{'name': 'xyz', 'age': 23} <class 'dict'>\n"
     ]
    }
   ],
   "source": [
    "# dictionary\n",
    "d = {'name':'abnc','age':23}\n",
    "print(d)\n",
    "d['name'] ='xyz'\n",
    "print(d,dict)\n",
    "\n",
    "# dict is key is inmutable , value is mutable"
   ]
  }
 ],
 "metadata": {
  "kernelspec": {
   "display_name": "Python 3",
   "language": "python",
   "name": "python3"
  },
  "language_info": {
   "codemirror_mode": {
    "name": "ipython",
    "version": 3
   },
   "file_extension": ".py",
   "mimetype": "text/x-python",
   "name": "python",
   "nbconvert_exporter": "python",
   "pygments_lexer": "ipython3",
   "version": "3.13.3"
  }
 },
 "nbformat": 4,
 "nbformat_minor": 5
}
