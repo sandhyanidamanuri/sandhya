{
 "cells": [
  {
   "cell_type": "code",
   "execution_count": null,
   "id": "6fb2cb2a",
   "metadata": {},
   "outputs": [
    {
     "name": "stdout",
     "output_type": "stream",
     "text": [
      "10\n",
      "1000\n",
      "10\n"
     ]
    }
   ],
   "source": [
    "# the process of removing old data and updates  with new data is know as variable reinitalization\n",
    "a = 10\n",
    "print(a)\n",
    "b = a\n",
    "a = 1000\n",
    "print(a)\n",
    "print(b)"
   ]
  },
  {
   "cell_type": "code",
   "execution_count": 5,
   "id": "5f3493e7",
   "metadata": {},
   "outputs": [
    {
     "name": "stdout",
     "output_type": "stream",
     "text": [
      "210 110 110\n"
     ]
    }
   ],
   "source": [
    "a = 110\n",
    "b = 210\n",
    "c = a\n",
    "a = b\n",
    "b = c\n",
    "print(a,b,c)\n"
   ]
  },
  {
   "cell_type": "code",
   "execution_count": 6,
   "id": "7ec99079",
   "metadata": {},
   "outputs": [
    {
     "name": "stdout",
     "output_type": "stream",
     "text": [
      "20 20 10\n"
     ]
    }
   ],
   "source": [
    "a = 10\n",
    "b = 20\n",
    "c = a\n",
    "a = b\n",
    "print(a,b,c)"
   ]
  },
  {
   "cell_type": "code",
   "execution_count": 7,
   "id": "985d5bbf",
   "metadata": {},
   "outputs": [
    {
     "name": "stdout",
     "output_type": "stream",
     "text": [
      "200 300 200\n"
     ]
    }
   ],
   "source": [
    "r = 200\n",
    "s = 300\n",
    "t = r\n",
    "r = s\n",
    "r = t\n",
    "print(r,s,t)"
   ]
  },
  {
   "cell_type": "code",
   "execution_count": null,
   "id": "84c7e166",
   "metadata": {},
   "outputs": [
    {
     "name": "stdout",
     "output_type": "stream",
     "text": [
      "area of circle is 314.0\n"
     ]
    }
   ],
   "source": [
    "# /write a python program to display are of circle\n",
    "# area circle = 3.14 *r *r\n",
    "r = 10\n",
    "area = 3.14 * r * r\n",
    "print(\"area of circle is\", area)"
   ]
  },
  {
   "cell_type": "code",
   "execution_count": null,
   "id": "846f0ea7",
   "metadata": {},
   "outputs": [
    {
     "name": "stdout",
     "output_type": "stream",
     "text": [
      "sum of a and b is 50\n"
     ]
    }
   ],
   "source": [
    "# sum of the 2 programs \n",
    "a = int(input(\"enter a number a\"))\n",
    "b = int(input(\"enter a number b\"))\n",
    "sum = a + b\n",
    "print(\"sum of a and b is\", sum)"
   ]
  },
  {
   "cell_type": "code",
   "execution_count": 13,
   "id": "9264a54a",
   "metadata": {},
   "outputs": [
    {
     "name": "stdout",
     "output_type": "stream",
     "text": [
      "70\n"
     ]
    }
   ],
   "source": [
    "r = 30\n",
    "s = 40\n",
    "print(r+s)"
   ]
  },
  {
   "cell_type": "code",
   "execution_count": 14,
   "id": "eb3e79c1",
   "metadata": {},
   "outputs": [
    {
     "name": "stdout",
     "output_type": "stream",
     "text": [
      "area of tringilde is 100.0\n"
     ]
    }
   ],
   "source": [
    "# area of tringie program \n",
    "# base tringile =0.5*base*height\n",
    "base = 10\n",
    "height = 20\n",
    "area = 0.5 * base * height\n",
    "print(\"area of tringilde is\", area)\n"
   ]
  }
 ],
 "metadata": {
  "kernelspec": {
   "display_name": "Python 3",
   "language": "python",
   "name": "python3"
  },
  "language_info": {
   "codemirror_mode": {
    "name": "ipython",
    "version": 3
   },
   "file_extension": ".py",
   "mimetype": "text/x-python",
   "name": "python",
   "nbconvert_exporter": "python",
   "pygments_lexer": "ipython3",
   "version": "3.13.3"
  }
 },
 "nbformat": 4,
 "nbformat_minor": 5
}
